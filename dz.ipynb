{
 "cells": [
  {
   "cell_type": "code",
   "execution_count": 1,
   "metadata": {},
   "outputs": [],
   "source": [
    "import requests\n",
    "from bs4 import BeautifulSoup\n",
    "import pandas as pd\n",
    "import urllib.request as urllib2"
   ]
  },
  {
   "cell_type": "markdown",
   "metadata": {},
   "source": [
    "Список ссылок"
   ]
  },
  {
   "cell_type": "code",
   "execution_count": 2,
   "metadata": {},
   "outputs": [],
   "source": [
    "list_of_URL = ['https://makeupstore.ru/product/394224/reviews/',\n",
    "               'https://makeupstore.ru/product/599/reviews/',\n",
    "               'https://makeupstore.ru/product/15499/reviews/',\n",
    "               'https://makeupstore.ru/product/193337/reviews/',\n",
    "               'https://makeupstore.ru/product/301777/reviews/',\n",
    "               'https://makeupstore.ru/product/3173/reviews/',\n",
    "               'https://makeupstore.ru/product/4146/reviews/',\n",
    "               'https://makeupstore.ru/product/4176/reviews/'\n",
    "              ]"
   ]
  },
  {
   "cell_type": "code",
   "execution_count": 3,
   "metadata": {},
   "outputs": [],
   "source": [
    "data = []\n",
    "for pg in list_of_URL:\n",
    "    page = urllib2.urlopen (pg)\n",
    "    soup = BeautifulSoup (page, 'html.parser')\n",
    "    quotes1 = soup.find('p', itemprop='reviewBody')\n",
    "    price = quotes1.text\n",
    "    data.append(price)"
   ]
  },
  {
   "cell_type": "markdown",
   "metadata": {},
   "source": [
    "Сохраяем вытащенные отзывы в файл"
   ]
  },
  {
   "cell_type": "code",
   "execution_count": 4,
   "metadata": {},
   "outputs": [],
   "source": [
    "MyFile=open('output.txt', 'w', encoding = 'utf-8')\n",
    "for element in data:\n",
    "    MyFile.write(element)\n",
    "    MyFile.write('\\n')\n",
    "MyFile.close()"
   ]
  },
  {
   "cell_type": "markdown",
   "metadata": {},
   "source": [
    "После вручную отделяю позитивные и негативные отзывы в два файла. "
   ]
  },
  {
   "cell_type": "markdown",
   "metadata": {},
   "source": [
    "Открываю текст с позитивными и негативными отзывами"
   ]
  },
  {
   "cell_type": "code",
   "execution_count": 5,
   "metadata": {},
   "outputs": [],
   "source": [
    "with open ('positive.txt', 'r', encoding = 'utf-8') as pos:\n",
    "    text = pos.read()"
   ]
  },
  {
   "cell_type": "code",
   "execution_count": 6,
   "metadata": {},
   "outputs": [],
   "source": [
    "with open ('negative.txt', 'r') as neg:\n",
    "    text_1 = neg.read()"
   ]
  },
  {
   "cell_type": "markdown",
   "metadata": {},
   "source": [
    "В файле smth.txt находятся 10 отзывов"
   ]
  },
  {
   "cell_type": "code",
   "execution_count": 7,
   "metadata": {},
   "outputs": [],
   "source": [
    "with open ('smth.txt', 'r', encoding = 'utf-8') as smth:\n",
    "    text_2 = smth.readlines()"
   ]
  },
  {
   "cell_type": "code",
   "execution_count": 8,
   "metadata": {},
   "outputs": [],
   "source": [
    "import pymorphy2\n",
    "import re\n",
    "import nltk\n",
    "from nltk.corpus import stopwords\n",
    "from collections import Counter\n",
    "morph = pymorphy2.MorphAnalyzer()\n",
    "c = Counter()\n",
    "\n",
    "stop_words = stopwords.words('russian')"
   ]
  },
  {
   "cell_type": "markdown",
   "metadata": {},
   "source": [
    "Функция, которая чистит отзывы от всех знаков препинания, заменяет числа"
   ]
  },
  {
   "cell_type": "code",
   "execution_count": 9,
   "metadata": {},
   "outputs": [],
   "source": [
    "def clean_text(text):\n",
    "    text = text.lower()\n",
    "    regular = r'[\\*+\\#+\\№\\\"\\-+\\+\\=+\\?+\\&\\^\\.+\\;\\,+\\>+\\(\\)\\/+\\:\\\\+]'\n",
    "    text = re.sub(regular, '', text)\n",
    "    text = re.sub(r'(\\d+\\s\\d+)|(\\d+)',' NUM ', text)\n",
    "    text = re.sub(r'\\s+', ' ', text)\n",
    "    return text"
   ]
  },
  {
   "cell_type": "markdown",
   "metadata": {},
   "source": [
    "Функция, которая лемматизирует отзыв, приводит его к нижнему регистру и токенизирует"
   ]
  },
  {
   "cell_type": "code",
   "execution_count": 10,
   "metadata": {},
   "outputs": [],
   "source": [
    "def lemmatize(a):\n",
    "    words = a.split() \n",
    "    res = list()\n",
    "    for word in words:\n",
    "        p = morph.parse(word)[0]\n",
    "        res.append(p.normal_form)\n",
    "\n",
    "    return res"
   ]
  },
  {
   "cell_type": "code",
   "execution_count": 11,
   "metadata": {},
   "outputs": [],
   "source": [
    "pos_clean = clean_text(text)\n",
    "neg_clean = clean_text(text_1)"
   ]
  },
  {
   "cell_type": "code",
   "execution_count": 12,
   "metadata": {},
   "outputs": [],
   "source": [
    "pos_lem = lemmatize(pos_clean)\n",
    "neg_lem = lemmatize(neg_clean)"
   ]
  },
  {
   "cell_type": "markdown",
   "metadata": {},
   "source": [
    "Убираем стоп-слова"
   ]
  },
  {
   "cell_type": "code",
   "execution_count": 13,
   "metadata": {},
   "outputs": [],
   "source": [
    "list_pos = [word1 for word1 in pos_lem if word1 not in stop_words]\n",
    "list_neg = [word2 for word2 in neg_lem if word2 not in stop_words]"
   ]
  },
  {
   "cell_type": "code",
   "execution_count": 14,
   "metadata": {},
   "outputs": [],
   "source": [
    "review = []\n",
    "for words in text_2:\n",
    "    cleaner = clean_text(words)\n",
    "    final = lemmatize(cleaner)\n",
    "    review.append(final)"
   ]
  },
  {
   "cell_type": "markdown",
   "metadata": {},
   "source": [
    "Считаем слова в позитивных и негативных отзывах"
   ]
  },
  {
   "cell_type": "code",
   "execution_count": 11,
   "metadata": {},
   "outputs": [],
   "source": [
    "#fr = []\n",
    "#for words_pos in list_pos:\n",
    "    #a = c[words_pos]\n",
    "    #fr.append(a)"
   ]
  },
  {
   "cell_type": "code",
   "execution_count": 12,
   "metadata": {},
   "outputs": [],
   "source": [
    "#for words_pos in list_pos:\n",
    "    #c[words_pos] += 1"
   ]
  },
  {
   "cell_type": "markdown",
   "metadata": {},
   "source": [
    "Если слово употребляется меньше двух раз, то мы его не записываем"
   ]
  },
  {
   "cell_type": "code",
   "execution_count": 15,
   "metadata": {},
   "outputs": [],
   "source": [
    "freq_pos = [item for item in set(list_pos) if list_pos.count(item) > 1]\n",
    "freq_neg = [item for item in set(list_neg) if list_neg.count(item) > 1]"
   ]
  },
  {
   "cell_type": "markdown",
   "metadata": {},
   "source": [
    "Далее мы сравниваем слова в списке позитивных и негативных. Если есть совпадающиеся слова, то они удаляются"
   ]
  },
  {
   "cell_type": "code",
   "execution_count": 16,
   "metadata": {},
   "outputs": [],
   "source": [
    "new_freq_pos = []\n",
    "for w in freq_pos:\n",
    "    if w in freq_neg:\n",
    "        continue\n",
    "    else:\n",
    "        new_freq_pos.append(w) "
   ]
  },
  {
   "cell_type": "code",
   "execution_count": 17,
   "metadata": {},
   "outputs": [],
   "source": [
    "new_freq_neg = []\n",
    "for t in freq_neg:\n",
    "    if t in freq_pos:\n",
    "        continue\n",
    "    else:\n",
    "        new_freq_neg.append(t)"
   ]
  },
  {
   "cell_type": "markdown",
   "metadata": {},
   "source": [
    "Получив список с позитивными словами и с негативными словами, мы определяем отзыв позитивный или негативный"
   ]
  },
  {
   "cell_type": "code",
   "execution_count": 18,
   "metadata": {},
   "outputs": [
    {
     "name": "stdout",
     "output_type": "stream",
     "text": [
      "Если это не негативный отзыв, то скорее всего позитивный\n",
      "Если это не негативный отзыв, то скорее всего позитивный\n",
      "Если это не негативный отзыв, то скорее всего позитивный\n",
      "Если это не негативный отзыв, то скорее всего позитивный\n",
      "Если это не негативный отзыв, то скорее всего позитивный\n",
      "Если это не негативный отзыв, то скорее всего позитивный\n",
      "Это негативный отзыв\n",
      "Если это не негативный отзыв, то скорее всего позитивный\n",
      "Это негативный отзыв\n",
      "Это негативный отзыв\n"
     ]
    }
   ],
   "source": [
    "for i in review:\n",
    "    for j in i:\n",
    "        if j in new_freq_neg:\n",
    "            flag = True\n",
    "            break\n",
    "        else:\n",
    "            flag = False\n",
    "            break\n",
    "            \n",
    "    if flag:\n",
    "        print('Это негативный отзыв')\n",
    "    else:\n",
    "        print('Если это не негативный отзыв, то скорее всего позитивный')"
   ]
  },
  {
   "cell_type": "markdown",
   "metadata": {},
   "source": [
    "Чтобы улучшить код, можно сделать более мелкую классификацию. Например, не только позитивный и негативный, а негативные более негативный, нейтральный, более позитивный, позитивный. Также можно учитывать отрицательную частицу не и такой знак препинания как ! и его количество. "
   ]
  }
 ],
 "metadata": {
  "kernelspec": {
   "display_name": "Python 3",
   "language": "python",
   "name": "python3"
  },
  "language_info": {
   "codemirror_mode": {
    "name": "ipython",
    "version": 3
   },
   "file_extension": ".py",
   "mimetype": "text/x-python",
   "name": "python",
   "nbconvert_exporter": "python",
   "pygments_lexer": "ipython3",
   "version": "3.8.5"
  }
 },
 "nbformat": 4,
 "nbformat_minor": 4
}
